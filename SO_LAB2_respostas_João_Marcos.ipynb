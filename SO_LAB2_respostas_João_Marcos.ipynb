{
  "nbformat": 4,
  "nbformat_minor": 0,
  "metadata": {
    "colab": {
      "provenance": [],
      "authorship_tag": "ABX9TyOTyAHH0wvHwtWWtTRqtRLq",
      "include_colab_link": true
    },
    "kernelspec": {
      "name": "python3",
      "display_name": "Python 3"
    },
    "language_info": {
      "name": "python"
    }
  },
  "cells": [
    {
      "cell_type": "markdown",
      "metadata": {
        "id": "view-in-github",
        "colab_type": "text"
      },
      "source": [
        "<a href=\"https://colab.research.google.com/github/jomasii/Sistemas_Op_IMD/blob/main/SO_LAB2_respostas_Jo%C3%A3o_Marcos.ipynb\" target=\"_parent\"><img src=\"https://colab.research.google.com/assets/colab-badge.svg\" alt=\"Open In Colab\"/></a>"
      ]
    },
    {
      "cell_type": "markdown",
      "source": [
        "# **Sistemas Operacionais**\n",
        "\n",
        "##Laboratório 2 - João Marcos Silva Fernandes de Freitas"
      ],
      "metadata": {
        "id": "t7li5bximC12"
      }
    },
    {
      "cell_type": "markdown",
      "source": [
        "##**Exercício 1**\n",
        "\n",
        "Modifique o código acima para fazer com que dois processos filhos alterem uma memória compartilhada contendo um inteiro. Faça o processo pai esperar por seus dois filhos para depois imprimir o valor da variável na tela. Dica: olhe o código do exercício 3 do Laboratório 1.\n",
        "\n"
      ],
      "metadata": {
        "id": "9u6QZ9DMkzeQ"
      }
    },
    {
      "cell_type": "code",
      "execution_count": null,
      "metadata": {
        "id": "VS7AzqhBivgU"
      },
      "outputs": [],
      "source": [
        "%%writefile exe1.c\n",
        "#include <sys/types.h>\n",
        "#include <sys/wait.h>\n",
        "#include <stdio.h>\n",
        "#include <unistd.h>\n",
        "#include <sys/shm.h>\n",
        "#include <sys/stat.h>\n",
        "#include <stdlib.h>\n",
        "\n",
        "int main(int argc, char **argv) {\n",
        "\n",
        "    int segment_id = shmget(IPC_PRIVATE, sizeof(int), S_IRUSR | S_IWUSR);\n",
        "\n",
        "    int *shared_memory = (int *)shmat(segment_id, NULL, 0);\n",
        "    *shared_memory = 0;\n",
        "\n",
        "    for (int i = 0; i < 2; i++) {\n",
        "        pid_t pid = fork();\n",
        "\n",
        "        if (pid < 0) {\n",
        "            printf(\"Erro ao criar processo filho\\n\");\n",
        "            return 1;\n",
        "        } else if (pid == 0) {\n",
        "            *shared_memory += 100;\n",
        "            printf(\"Filho %d alterou o valor para: %d\\n\", getpid(), *shared_memory);\n",
        "\n",
        "            shmdt(shared_memory);\n",
        "            exit(0);\n",
        "        }\n",
        "    }\n",
        "\n",
        "    wait(NULL);\n",
        "    wait(NULL);\n",
        "\n",
        "    printf(\"Valor final na memória compartilhada: %d\\n\", *shared_memory);\n",
        "\n",
        "\n",
        "    shmdt(shared_memory);\n",
        "    shmctl(segment_id, IPC_RMID, NULL);\n",
        "\n",
        "    return 0;\n",
        "}"
      ]
    },
    {
      "cell_type": "code",
      "source": [
        "!gcc ./exe1.c -o exe1\n",
        "!./exe1"
      ],
      "metadata": {
        "id": "dSeY2LoUi1Me"
      },
      "execution_count": null,
      "outputs": []
    },
    {
      "cell_type": "markdown",
      "source": [
        "##**Exercício 2**\n",
        "\n",
        "Utilizando comunicação entre processos, crie um código que escreva a Sequência de Fibonacci, com o parâmetro n sendo uma variável global. Tal sequência deve ser gerada por um processo filho, mas deve ser impressa na tela pelo processo pai. Dica: olhe o código do desafio do Laboratório 1.\n"
      ],
      "metadata": {
        "id": "rnBVzBh3lB7U"
      }
    },
    {
      "cell_type": "code",
      "source": [
        "%%writefile exe2.c\n",
        "#include <sys/types.h>\n",
        "#include <sys/wait.h>\n",
        "#include <stdio.h>\n",
        "#include <unistd.h>\n",
        "#include <sys/shm.h>\n",
        "#include <sys/stat.h>\n",
        "#include <stdlib.h>\n",
        "\n",
        "int n = 20;\n",
        "\n",
        "int main(int argc, char **argv) {\n",
        "    int segment_id = shmget(IPC_PRIVATE, (n+1)*sizeof(int), S_IRUSR | S_IWUSR);\n",
        "    int *fib = (int *)shmat(segment_id, NULL, 0);\n",
        "\n",
        "    pid_t pid = fork();\n",
        "\n",
        "    if (pid < 0) {\n",
        "        printf(\"Erro ao criar processo filho\\n\");\n",
        "        return 1;\n",
        "    } else if (pid == 0) {\n",
        "        fib[0] = 0;\n",
        "        if (n > 0) fib[1] = 1;\n",
        "\n",
        "        for (int i = 2; i <= n; i++) {\n",
        "            fib[i] = fib[i-1] + fib[i-2];\n",
        "        }\n",
        "\n",
        "        shmdt(fib);\n",
        "        exit(0);\n",
        "    } else { // Processo pai\n",
        "        wait(NULL);\n",
        "\n",
        "        printf(\"Sequência de Fibonacci (primeiros %d termos):\\n\", n);\n",
        "        for (int i = 0; i <= n; i++) {\n",
        "            printf(\"%d \", fib[i]);\n",
        "        }\n",
        "        printf(\"\\n\");\n",
        "\n",
        "        // Limpeza\n",
        "        shmdt(fib);\n",
        "        shmctl(segment_id, IPC_RMID, NULL);\n",
        "    }\n",
        "\n",
        "    return 0;\n",
        "}"
      ],
      "metadata": {
        "id": "K_h9Sz4cjMVj"
      },
      "execution_count": null,
      "outputs": []
    },
    {
      "cell_type": "code",
      "source": [
        "!gcc ./exe2.c -o exe2\n",
        "!./exe2"
      ],
      "metadata": {
        "id": "ZWRMntiijQzV"
      },
      "execution_count": null,
      "outputs": []
    },
    {
      "cell_type": "markdown",
      "source": [
        "##**Exercício 3**\n",
        "\n",
        "Usando comunicação entre processos, escreva um código que realiza a soma de *n* números naturais, sendo *n* uma variável global. Cada processo deve fazer apenas a soma de dois números e o resultado final deve ser retornado pelo primeiro processo. Por exemplo, o processo 1 deve fazer a soma de 0+1, o processo 2 vai pegar esse resultado e somar com 2, e assim por diante.\n"
      ],
      "metadata": {
        "id": "M41rSL1DlQrk"
      }
    },
    {
      "cell_type": "code",
      "source": [
        "%%writefile exe3.c\n",
        "#include <sys/types.h>\n",
        "#include <sys/wait.h>\n",
        "#include <stdio.h>\n",
        "#include <unistd.h>\n",
        "#include <sys/shm.h>\n",
        "#include <sys/stat.h>\n",
        "#include <stdlib.h>\n",
        "\n",
        "int n = 10;\n",
        "\n",
        "int main(int argc, char **argv) {\n",
        "\n",
        "    int segment_id = shmget(IPC_PRIVATE, sizeof(int), S_IRUSR | S_IWUSR);\n",
        "    int *result = (int *)shmat(segment_id, NULL, 0);\n",
        "    *result = 0;\n",
        "\n",
        "    for (int i = 0; i <= n; i++) {\n",
        "        pid_t pid = fork();\n",
        "\n",
        "        if (pid < 0) {\n",
        "            printf(\"Erro ao criar processo\\n\");\n",
        "            return 1;\n",
        "        } else if (pid == 0) {\n",
        "            *result += i;\n",
        "            printf(\"Processo %d: somou %d, resultado parcial = %d\\n\", getpid(), i, *result);\n",
        "\n",
        "            shmdt(result);\n",
        "            exit(0);\n",
        "        } else {\n",
        "            wait(NULL);\n",
        "        }\n",
        "    }\n",
        "\n",
        "    printf(\"Soma dos primeiros %d números naturais: %d\\n\", n, *result);\n",
        "\n",
        "    shmdt(result);\n",
        "    shmctl(segment_id, IPC_RMID, NULL);\n",
        "\n",
        "    return 0;\n",
        "}"
      ],
      "metadata": {
        "id": "OzkbJpSTjboD"
      },
      "execution_count": null,
      "outputs": []
    },
    {
      "cell_type": "code",
      "source": [
        "!gcc ./exe3.c -o exe3\n",
        "!./exe3"
      ],
      "metadata": {
        "id": "CJNGWrrJjg3t"
      },
      "execution_count": null,
      "outputs": []
    }
  ]
}