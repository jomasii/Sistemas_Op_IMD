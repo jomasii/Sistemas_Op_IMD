{
  "nbformat": 4,
  "nbformat_minor": 0,
  "metadata": {
    "colab": {
      "provenance": [],
      "authorship_tag": "ABX9TyMjYktktFrNz8TjwPmi6qoY"
    },
    "kernelspec": {
      "name": "python3",
      "display_name": "Python 3"
    },
    "language_info": {
      "name": "python"
    }
  },
  "cells": [
    {
      "cell_type": "markdown",
      "source": [
        "# Sistemas Operacionais\n",
        "\n",
        "##Laboratório 2 - João Marcos Silva Ferandes de Freitas"
      ],
      "metadata": {
        "id": "t7li5bximC12"
      }
    },
    {
      "cell_type": "markdown",
      "source": [
        "#**Exercício 1**\n",
        "\n",
        "Modifique o código acima para fazer com que dois processos filhos alterem uma memória compartilhada contendo um inteiro. Faça o processo pai esperar por seus dois filhos para depois imprimir o valor da variável na tela. Dica: olhe o código do exercício 3 do Laboratório 1.\n",
        "\n"
      ],
      "metadata": {
        "id": "9u6QZ9DMkzeQ"
      }
    },
    {
      "cell_type": "code",
      "execution_count": 1,
      "metadata": {
        "colab": {
          "base_uri": "https://localhost:8080/"
        },
        "id": "VS7AzqhBivgU",
        "outputId": "40f5b761-41b3-4abd-cb88-2f186b9afddd"
      },
      "outputs": [
        {
          "output_type": "stream",
          "name": "stdout",
          "text": [
            "Writing exe1.c\n"
          ]
        }
      ],
      "source": [
        "%%writefile exe1.c\n",
        "#include <sys/types.h>\n",
        "#include <sys/wait.h>\n",
        "#include <stdio.h>\n",
        "#include <unistd.h>\n",
        "#include <sys/shm.h>\n",
        "#include <sys/stat.h>\n",
        "#include <stdlib.h>\n",
        "\n",
        "int main(int argc, char **argv) {\n",
        "\n",
        "    int segment_id = shmget(IPC_PRIVATE, sizeof(int), S_IRUSR | S_IWUSR);\n",
        "\n",
        "    int *shared_memory = (int *)shmat(segment_id, NULL, 0);\n",
        "    *shared_memory = 0;\n",
        "\n",
        "    for (int i = 0; i < 2; i++) {\n",
        "        pid_t pid = fork();\n",
        "\n",
        "        if (pid < 0) {\n",
        "            printf(\"Erro ao criar processo filho\\n\");\n",
        "            return 1;\n",
        "        } else if (pid == 0) {\n",
        "            *shared_memory += 100;\n",
        "            printf(\"Filho %d alterou o valor para: %d\\n\", getpid(), *shared_memory);\n",
        "\n",
        "            shmdt(shared_memory);\n",
        "            exit(0);\n",
        "        }\n",
        "    }\n",
        "\n",
        "    wait(NULL);\n",
        "    wait(NULL);\n",
        "\n",
        "    printf(\"Valor final na memória compartilhada: %d\\n\", *shared_memory);\n",
        "\n",
        "\n",
        "    shmdt(shared_memory);\n",
        "    shmctl(segment_id, IPC_RMID, NULL);\n",
        "\n",
        "    return 0;\n",
        "}"
      ]
    },
    {
      "cell_type": "code",
      "source": [
        "!gcc ./exe1.c -o exe1\n",
        "!./exe1"
      ],
      "metadata": {
        "colab": {
          "base_uri": "https://localhost:8080/"
        },
        "id": "dSeY2LoUi1Me",
        "outputId": "8698d786-3cd1-439a-edb2-e9e1d1a62eb6"
      },
      "execution_count": 2,
      "outputs": [
        {
          "output_type": "stream",
          "name": "stdout",
          "text": [
            "Filho 699 alterou o valor para: 100\n",
            "Filho 698 alterou o valor para: 200\n",
            "Valor final na memória compartilhada: 200\n"
          ]
        }
      ]
    },
    {
      "cell_type": "markdown",
      "source": [
        "#**Exercício 2**\n",
        "\n",
        "Utilizando comunicação entre processos, crie um código que escreva a Sequência de Fibonacci, com o parâmetro n sendo uma variável global. Tal sequência deve ser gerada por um processo filho, mas deve ser impressa na tela pelo processo pai. Dica: olhe o código do desafio do Laboratório 1.\n"
      ],
      "metadata": {
        "id": "rnBVzBh3lB7U"
      }
    },
    {
      "cell_type": "code",
      "source": [
        "%%writefile exe2.c\n",
        "#include <sys/types.h>\n",
        "#include <sys/wait.h>\n",
        "#include <stdio.h>\n",
        "#include <unistd.h>\n",
        "#include <sys/shm.h>\n",
        "#include <sys/stat.h>\n",
        "#include <stdlib.h>\n",
        "\n",
        "int n = 20;\n",
        "\n",
        "int main(int argc, char **argv) {\n",
        "    int segment_id = shmget(IPC_PRIVATE, (n+1)*sizeof(int), S_IRUSR | S_IWUSR);\n",
        "    int *fib = (int *)shmat(segment_id, NULL, 0);\n",
        "\n",
        "    pid_t pid = fork();\n",
        "\n",
        "    if (pid < 0) {\n",
        "        printf(\"Erro ao criar processo filho\\n\");\n",
        "        return 1;\n",
        "    } else if (pid == 0) {\n",
        "        fib[0] = 0;\n",
        "        if (n > 0) fib[1] = 1;\n",
        "\n",
        "        for (int i = 2; i <= n; i++) {\n",
        "            fib[i] = fib[i-1] + fib[i-2];\n",
        "        }\n",
        "\n",
        "        shmdt(fib);\n",
        "        exit(0);\n",
        "    } else { // Processo pai\n",
        "        wait(NULL);\n",
        "\n",
        "        printf(\"Sequência de Fibonacci (primeiros %d termos):\\n\", n);\n",
        "        for (int i = 0; i <= n; i++) {\n",
        "            printf(\"%d \", fib[i]);\n",
        "        }\n",
        "        printf(\"\\n\");\n",
        "\n",
        "        // Limpeza\n",
        "        shmdt(fib);\n",
        "        shmctl(segment_id, IPC_RMID, NULL);\n",
        "    }\n",
        "\n",
        "    return 0;\n",
        "}"
      ],
      "metadata": {
        "colab": {
          "base_uri": "https://localhost:8080/"
        },
        "id": "K_h9Sz4cjMVj",
        "outputId": "1bd7c0e1-15ae-4d04-9d69-f96c453fb1e0"
      },
      "execution_count": 4,
      "outputs": [
        {
          "output_type": "stream",
          "name": "stdout",
          "text": [
            "Writing exe2.c\n"
          ]
        }
      ]
    },
    {
      "cell_type": "code",
      "source": [
        "!gcc ./exe2.c -o exe2\n",
        "!./exe2"
      ],
      "metadata": {
        "colab": {
          "base_uri": "https://localhost:8080/"
        },
        "id": "ZWRMntiijQzV",
        "outputId": "59788708-67c7-46eb-a110-da1bc1fa34e5"
      },
      "execution_count": 5,
      "outputs": [
        {
          "output_type": "stream",
          "name": "stdout",
          "text": [
            "Sequência de Fibonacci (primeiros 20 termos):\n",
            "0 1 1 2 3 5 8 13 21 34 55 89 144 233 377 610 987 1597 2584 4181 6765 \n"
          ]
        }
      ]
    },
    {
      "cell_type": "markdown",
      "source": [
        "#**Exercício 3**\n",
        "\n",
        "Usando comunicação entre processos, escreva um código que realiza a soma de *n* números naturais, sendo *n* uma variável global. Cada processo deve fazer apenas a soma de dois números e o resultado final deve ser retornado pelo primeiro processo. Por exemplo, o processo 1 deve fazer a soma de 0+1, o processo 2 vai pegar esse resultado e somar com 2, e assim por diante.\n"
      ],
      "metadata": {
        "id": "M41rSL1DlQrk"
      }
    },
    {
      "cell_type": "code",
      "source": [
        "%%writefile exe3.c\n",
        "#include <sys/types.h>\n",
        "#include <sys/wait.h>\n",
        "#include <stdio.h>\n",
        "#include <unistd.h>\n",
        "#include <sys/shm.h>\n",
        "#include <sys/stat.h>\n",
        "#include <stdlib.h>\n",
        "\n",
        "int n = 10;\n",
        "\n",
        "int main(int argc, char **argv) {\n",
        "\n",
        "    int segment_id = shmget(IPC_PRIVATE, sizeof(int), S_IRUSR | S_IWUSR);\n",
        "    int *result = (int *)shmat(segment_id, NULL, 0);\n",
        "    *result = 0;\n",
        "\n",
        "    for (int i = 0; i <= n; i++) {\n",
        "        pid_t pid = fork();\n",
        "\n",
        "        if (pid < 0) {\n",
        "            printf(\"Erro ao criar processo\\n\");\n",
        "            return 1;\n",
        "        } else if (pid == 0) {\n",
        "            *result += i;\n",
        "            printf(\"Processo %d: somou %d, resultado parcial = %d\\n\", getpid(), i, *result);\n",
        "\n",
        "            shmdt(result);\n",
        "            exit(0);\n",
        "        } else {\n",
        "            wait(NULL);\n",
        "        }\n",
        "    }\n",
        "\n",
        "    printf(\"Soma dos primeiros %d números naturais: %d\\n\", n, *result);\n",
        "\n",
        "    shmdt(result);\n",
        "    shmctl(segment_id, IPC_RMID, NULL);\n",
        "\n",
        "    return 0;\n",
        "}"
      ],
      "metadata": {
        "colab": {
          "base_uri": "https://localhost:8080/"
        },
        "id": "OzkbJpSTjboD",
        "outputId": "e8ed0d84-6db3-47ac-ba2c-69306ae634cf"
      },
      "execution_count": 6,
      "outputs": [
        {
          "output_type": "stream",
          "name": "stdout",
          "text": [
            "Writing exe3.c\n"
          ]
        }
      ]
    },
    {
      "cell_type": "code",
      "source": [
        "!gcc ./exe3.c -o exe3\n",
        "!./exe3"
      ],
      "metadata": {
        "colab": {
          "base_uri": "https://localhost:8080/"
        },
        "id": "CJNGWrrJjg3t",
        "outputId": "dae97469-4d13-4154-eef6-234774b2be18"
      },
      "execution_count": 7,
      "outputs": [
        {
          "output_type": "stream",
          "name": "stdout",
          "text": [
            "Processo 1224: somou 0, resultado parcial = 0\n",
            "Processo 1225: somou 1, resultado parcial = 1\n",
            "Processo 1226: somou 2, resultado parcial = 3\n",
            "Processo 1227: somou 3, resultado parcial = 6\n",
            "Processo 1228: somou 4, resultado parcial = 10\n",
            "Processo 1229: somou 5, resultado parcial = 15\n",
            "Processo 1230: somou 6, resultado parcial = 21\n",
            "Processo 1231: somou 7, resultado parcial = 28\n",
            "Processo 1232: somou 8, resultado parcial = 36\n",
            "Processo 1233: somou 9, resultado parcial = 45\n",
            "Processo 1234: somou 10, resultado parcial = 55\n",
            "Soma dos primeiros 10 números naturais: 55\n"
          ]
        }
      ]
    }
  ]
}