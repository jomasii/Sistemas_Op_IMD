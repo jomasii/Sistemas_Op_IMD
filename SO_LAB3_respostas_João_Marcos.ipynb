{
  "nbformat": 4,
  "nbformat_minor": 0,
  "metadata": {
    "colab": {
      "provenance": [],
      "authorship_tag": "ABX9TyNCpn7Sdb/bYTwZ0a//Kkel",
      "include_colab_link": true
    },
    "kernelspec": {
      "name": "python3",
      "display_name": "Python 3"
    },
    "language_info": {
      "name": "python"
    }
  },
  "cells": [
    {
      "cell_type": "markdown",
      "metadata": {
        "id": "view-in-github",
        "colab_type": "text"
      },
      "source": [
        "<a href=\"https://colab.research.google.com/github/jomasii/Sistemas_Op_IMD/blob/main/SO_LAB3_respostas_Jo%C3%A3o_Marcos.ipynb\" target=\"_parent\"><img src=\"https://colab.research.google.com/assets/colab-badge.svg\" alt=\"Open In Colab\"/></a>"
      ]
    },
    {
      "cell_type": "markdown",
      "source": [
        "# **Sistemas Operacionais**\n",
        "\n",
        "##Laboratório 2 - João Marcos Silva Fernandes de Freitas"
      ],
      "metadata": {
        "id": "ZW2qf1lYV7i0"
      }
    },
    {
      "cell_type": "markdown",
      "source": [
        "##**Exercício 1**\n",
        "\n",
        "Comente a linha pthread_join(threads[i],NULL) no código helloThreads.c e veja o que acontece. Faça modificações no código para obter novamente a saída original sem necessitar usar um pthread_join. Dica: basta adicionar uma linha ao código."
      ],
      "metadata": {
        "id": "elhKi8rfV_6W"
      }
    },
    {
      "cell_type": "code",
      "execution_count": null,
      "metadata": {
        "id": "8ZqKD1Pghksx"
      },
      "outputs": [],
      "source": [
        "%%writefile helloThreads.c\n",
        "#include <pthread.h>\n",
        "#include <sys/types.h>\n",
        "#include <sys/wait.h>\n",
        "#include <stdio.h>\n",
        "#include <unistd.h>\n",
        "#include <sys/shm.h>\n",
        "#include <sys/stat.h>\n",
        "#include <stdlib.h>\n",
        "\n",
        "int numberOfThreads=5;\n",
        "\n",
        "void *printHello(void *tid){\n",
        "  printf(\"Ola, eu sou a thread %d.\\n\", (int)(size_t) tid);\n",
        "  pthread_exit(NULL);\n",
        "}\n",
        "\n",
        "int main(int argc, char **argv)\n",
        "{\n",
        "  pthread_t threads[numberOfThreads];\n",
        "  for (int i=0;i<numberOfThreads;i++){\n",
        "    // Criando uma thread e passando para ela a funcao printHello\n",
        "    int status=pthread_create(&threads[i],NULL,printHello,(void *)(size_t) i);\n",
        "\n",
        "    if(status!=0){\n",
        "      printf(\"Erro na criacao da thread %d. Codigo de erro %d.\",i, status);\n",
        "      return 1;\n",
        "    }\n",
        "\n",
        "    // pthread_join(threads[i],NULL);\n",
        "  }\n",
        "\n",
        "  // Adicionada esta linha para substituir o pthread_join\n",
        "  pthread_exit(NULL);\n",
        "\n",
        "  return 0;\n",
        "}"
      ]
    },
    {
      "cell_type": "code",
      "source": [
        "!gcc helloThreads.c -o helloThreads\n",
        "!./helloThreads"
      ],
      "metadata": {
        "id": "A8dIBZuXhqTh"
      },
      "execution_count": null,
      "outputs": []
    },
    {
      "cell_type": "markdown",
      "source": [
        "##**Exercício 2**\n",
        "\n",
        "Refaça o exercício 2 do laboratório 2 usando threads."
      ],
      "metadata": {
        "id": "AJY4TmiJWiHY"
      }
    },
    {
      "cell_type": "code",
      "source": [
        "%%writefile exe2_lab3.c\n",
        "#include <pthread.h>\n",
        "#include <stdio.h>\n",
        "#include <stdlib.h>\n",
        "\n",
        "int n = 20; // Número de elementos da sequência\n",
        "int fib[21]; // Array para armazenar a sequência (n+1 elementos)\n",
        "\n",
        "\n",
        "void *calcFib(void *arg) {\n",
        "    fib[0] = 0;\n",
        "    if (n > 0) fib[1] = 1;\n",
        "\n",
        "    for (int i = 2; i <= n; i++) {\n",
        "        fib[i] = fib[i-1] + fib[i-2];\n",
        "    }\n",
        "    pthread_exit(NULL);\n",
        "}\n",
        "\n",
        "int main() {\n",
        "    pthread_t thread;\n",
        "\n",
        "    printf(\"Criando thread para calcular Fibonacci...\\n\");\n",
        "\n",
        "\n",
        "    int status = pthread_create(&thread, NULL, calcFib, NULL);\n",
        "    if (status != 0) {\n",
        "        printf(\"Erro ao criar thread. Código %d\\n\", status);\n",
        "        return 1;\n",
        "    }\n",
        "\n",
        "\n",
        "    pthread_join(thread, NULL);\n",
        "\n",
        "\n",
        "    printf(\"Sequência de Fibonacci (primeiros %d termos):\\n\", n);\n",
        "    for (int i = 0; i <= n; i++) {\n",
        "        printf(\"%d \", fib[i]);\n",
        "    }\n",
        "    printf(\"\\n\");\n",
        "\n",
        "    return 0;\n",
        "}"
      ],
      "metadata": {
        "id": "KhPUJxlRiLDQ"
      },
      "execution_count": null,
      "outputs": []
    },
    {
      "cell_type": "code",
      "source": [
        "!gcc ./exe2_lab3.c -o exe2_lab3\n",
        "!./exe2_lab3"
      ],
      "metadata": {
        "id": "y_JQjENPiX-u"
      },
      "execution_count": null,
      "outputs": []
    },
    {
      "cell_type": "markdown",
      "source": [
        "##**Exercício 3**\n",
        "\n",
        "Refaça o exercício 3 do laboratório 2 usando threads."
      ],
      "metadata": {
        "id": "eGi8vwMAWo8f"
      }
    },
    {
      "cell_type": "code",
      "source": [
        "%%writefile exe3_lab3.c\n",
        "#include <pthread.h>\n",
        "#include <stdio.h>\n",
        "#include <stdlib.h>\n",
        "\n",
        "int n = 10; // Soma dos primeiros n números naturais\n",
        "int result = 0; // Variável para armazenar o resultado\n",
        "\n",
        "\n",
        "typedef struct {\n",
        "    int number;\n",
        "} ThreadArgs;\n",
        "\n",
        "\n",
        "void *addNumber(void *arg) {\n",
        "    ThreadArgs *args = (ThreadArgs *)arg;\n",
        "    result += args->number;\n",
        "    printf(\"Thread %ld: somou %d, resultado parcial = %d\\n\",\n",
        "           pthread_self(), args->number, result);\n",
        "    free(args);\n",
        "    pthread_exit(NULL);\n",
        "}\n",
        "\n",
        "int main() {\n",
        "    pthread_t threads[n+1];\n",
        "\n",
        "    for (int i = 0; i <= n; i++) {\n",
        "\n",
        "        ThreadArgs *args = malloc(sizeof(ThreadArgs));\n",
        "        args->number = i;\n",
        "\n",
        "\n",
        "        int status = pthread_create(&threads[i], NULL, addNumber, (void *)args);\n",
        "        if (status != 0) {\n",
        "            printf(\"Erro ao criar thread. Código %d\\n\", status);\n",
        "            return 1;\n",
        "        }\n",
        "\n",
        "        pthread_join(threads[i], NULL);\n",
        "    }\n",
        "\n",
        "    printf(\"Soma dos primeiros %d números naturais: %d\\n\", n, result);\n",
        "\n",
        "    return 0;\n",
        "}"
      ],
      "metadata": {
        "id": "t71n9qAji3rz"
      },
      "execution_count": null,
      "outputs": []
    },
    {
      "cell_type": "code",
      "source": [
        "!gcc ./exe3_lab3.c -o exe3_lab3\n",
        "!./exe3_lab3"
      ],
      "metadata": {
        "id": "QPoX6SM5i0q5"
      },
      "execution_count": null,
      "outputs": []
    }
  ]
}