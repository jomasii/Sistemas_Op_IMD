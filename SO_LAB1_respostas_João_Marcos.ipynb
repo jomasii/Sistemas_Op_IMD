{
  "nbformat": 4,
  "nbformat_minor": 0,
  "metadata": {
    "colab": {
      "provenance": [],
      "authorship_tag": "ABX9TyNp0VPPuNJmS5deO2MlAWDK",
      "include_colab_link": true
    },
    "kernelspec": {
      "name": "python3",
      "display_name": "Python 3"
    },
    "language_info": {
      "name": "python"
    }
  },
  "cells": [
    {
      "cell_type": "markdown",
      "metadata": {
        "id": "view-in-github",
        "colab_type": "text"
      },
      "source": [
        "<a href=\"https://colab.research.google.com/github/jomasii/Sistemas_Op_IMD/blob/main/SO_LAB1_respostas_Jo%C3%A3o_Marcos.ipynb\" target=\"_parent\"><img src=\"https://colab.research.google.com/assets/colab-badge.svg\" alt=\"Open In Colab\"/></a>"
      ]
    },
    {
      "cell_type": "markdown",
      "source": [
        "# **Sistemas Operacionais**\n",
        "\n",
        "##Laboratório 1 - João Marcos Silva Ferandes de Freitas"
      ],
      "metadata": {
        "id": "48o0oNltb6E2"
      }
    },
    {
      "cell_type": "markdown",
      "source": [
        "## **Exercício 1**\n",
        "\n",
        "Sabendo que a função `wait()` faz o processo pai esperar até que um dos seus filhos (o mais rápido) termine a sua execução e que ela retorna o PID do filho que terminou, crie um código no qual um pai espera **todos os seus filhos** terminarem, após a utilização de 4 comandos `fork()` **consecutivos**. Perceba que, nesse caso, há mais de um pai no programa."
      ],
      "metadata": {
        "id": "9-3lvx-lcBG5"
      }
    },
    {
      "cell_type": "code",
      "source": [
        "%%writefile exe1_lab1.c\n",
        "#include <sys/types.h>\n",
        "#include <sys/wait.h>\n",
        "#include <stdio.h>\n",
        "#include <unistd.h>\n",
        "#include <stdlib.h>\n",
        "\n",
        "int main(int argc, char **argv)\n",
        "{\n",
        "    printf(\"Sou o processo %d, sou o pai de todos.\\n\",getpid());\n",
        "    fork();\n",
        "    fork();\n",
        "    fork();\n",
        "    fork();\n",
        "    while(1){\n",
        "      pid_t pid=wait(NULL);\n",
        "\n",
        "      if(pid==-1){\n",
        "        printf(\"Sou o processo %d, serei encerrado agora.\\n\",getpid());\n",
        "        exit(0);\n",
        "      }\n",
        "\n",
        "      else{\n",
        "        printf(\"Sou o processo %d, meu filho %d terminou a sua execucao.\\n\",getpid(),pid);\n",
        "      }\n",
        "    }\n",
        "\n",
        "    return 0;\n",
        "}"
      ],
      "metadata": {
        "id": "5i6qXO-Jc9k1"
      },
      "execution_count": null,
      "outputs": []
    },
    {
      "cell_type": "code",
      "source": [
        "!gcc ./exe1_lab1.c -o exe1_lab1\n",
        "!./exe1_lab1"
      ],
      "metadata": {
        "id": "euaho-3KdL6k"
      },
      "execution_count": null,
      "outputs": []
    },
    {
      "cell_type": "markdown",
      "source": [
        "## **Exercício 2**\n",
        "\n",
        "Com o código *twoProcessesOneVariable.c*, faça com que o processo filho use um ponteiro para modificar a variável *v*. Qual o valor de *v* para cada processo?"
      ],
      "metadata": {
        "id": "YrZLrS5MdU-e"
      }
    },
    {
      "cell_type": "code",
      "source": [
        "%%writefile exe2_lab1.c\n",
        "#include <sys/types.h>\n",
        "#include <sys/wait.h>\n",
        "#include <stdio.h>\n",
        "#include <unistd.h>\n",
        "#include <stdlib.h>\n",
        "\n",
        "int v=100;\n",
        "void filho_incrementa(int *v){// Filho incrementa v usando ponteiros\n",
        "  *v =*v +100;\n",
        "}\n",
        "int main(int argc, char **argv)\n",
        "{\n",
        "    pid_t pid=fork(); // Funcao usada para criar um novo processo\n",
        "    if(pid==0){// Processo filho\n",
        "      filho_incrementa(&v); // Filho incrementa v usando ponteiros\n",
        "      printf(\"Sou o processo filho. v = %d.\\n\",v);\n",
        "      exit(0);\n",
        "    }else if(pid>0){ // Processo pai\n",
        "      wait(NULL);\n",
        "    }\n",
        "    printf(\"Sou o processo pai. v = %d.\\n\",v);\n",
        "    return 0;\n",
        "}"
      ],
      "metadata": {
        "id": "jE8VWRUIdhB8"
      },
      "execution_count": null,
      "outputs": []
    },
    {
      "cell_type": "code",
      "source": [
        "!gcc ./exe2_lab1.c -o exe2_lab1\n",
        "!./exe2_lab1"
      ],
      "metadata": {
        "id": "LSuk8hlgdwp1"
      },
      "execution_count": null,
      "outputs": []
    },
    {
      "cell_type": "markdown",
      "source": [
        "## **Exercício 3**\n",
        "\n",
        "Refaça o código acima usando 2 comandos `fork()` e 2 incrementações da variável *v*, com o segundo `fork()` ocorrendo somente após a primeira incrementação e apenas para o segundo processo (o filho). A última incrementação deve ocorrer apenas para o terceiro processo (o neto). Ao final da execução, imprima o valor de v para cada processo."
      ],
      "metadata": {
        "id": "0bVrzsdGd3-U"
      }
    },
    {
      "cell_type": "code",
      "source": [
        "%%writefile exe3_lab1.c\n",
        "#include <sys/types.h>\n",
        "#include <sys/wait.h>\n",
        "#include <stdio.h>\n",
        "#include <unistd.h>\n",
        "#include <stdlib.h>\n",
        "\n",
        "int v=100;\n",
        "void filho_incrementa(int *v){// Filho incrementa v usando ponteiros\n",
        "  *v =*v +100;\n",
        "}\n",
        "int main(int argc, char **argv)\n",
        "{\n",
        "    pid_t pid_filho=fork(); // Funcao usada para criar um novo processo\n",
        "\n",
        "    if(pid_filho==0){// Processo filho\n",
        "      filho_incrementa(&v);\n",
        "      pid_t pid_neto=fork();// Crio um novo filho\n",
        "\n",
        "      if(pid_neto==0){ // Processo neto\n",
        "        filho_incrementa(&v);\n",
        "        printf(\"Sou o processo neto. v = %d.\\n\",v);\n",
        "      }\n",
        "\n",
        "      else if(pid_neto>0){ // Processo filho\n",
        "        wait(NULL);\n",
        "        printf(\"Sou o processo filho. v = %d.\\n\",v);\n",
        "      }\n",
        "      exit(0);\n",
        "    }\n",
        "\n",
        "    else if(pid_filho>0){\n",
        "      wait(NULL);\n",
        "    }\n",
        "\n",
        "    printf(\"Sou o processo pai. v = %d.\\n\",v);\n",
        "    return 0;\n",
        "}"
      ],
      "metadata": {
        "id": "IzOIK8UYd-Ke"
      },
      "execution_count": null,
      "outputs": []
    },
    {
      "cell_type": "code",
      "source": [
        "!gcc ./exe3_lab1.c -o exe3_lab1\n",
        "!./exe3_lab1"
      ],
      "metadata": {
        "id": "9BBRhYFJeH8Z"
      },
      "execution_count": null,
      "outputs": []
    }
  ]
}